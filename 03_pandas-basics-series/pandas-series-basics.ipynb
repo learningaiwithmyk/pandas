{
 "cells": [
  {
   "cell_type": "markdown",
   "id": "4c521c96-de7d-455d-b1ae-923c419a32a2",
   "metadata": {},
   "source": [
    "# Pandas Series Basics"
   ]
  },
  {
   "cell_type": "code",
   "execution_count": null,
   "id": "0b3e21ad-f221-4cfe-a063-769c4cce2b93",
   "metadata": {},
   "outputs": [],
   "source": [
    "#Syntax: pandas.Series(data,index=index)"
   ]
  },
  {
   "cell_type": "code",
   "execution_count": 2,
   "id": "7521d1ac-eb22-405e-a8bf-4a6a418b11f2",
   "metadata": {},
   "outputs": [],
   "source": [
    "import pandas as pd\n",
    "s=pd.Series([1,2,3,4,5])"
   ]
  },
  {
   "cell_type": "code",
   "execution_count": 3,
   "id": "6e42c5d7-879c-4d8d-9995-afe0858f04c6",
   "metadata": {},
   "outputs": [
    {
     "name": "stdout",
     "output_type": "stream",
     "text": [
      "0    1\n",
      "1    2\n",
      "2    3\n",
      "3    4\n",
      "4    5\n",
      "dtype: int64\n"
     ]
    }
   ],
   "source": [
    "print(s)"
   ]
  },
  {
   "cell_type": "markdown",
   "id": "95c6ada4-8d74-42a7-bf9c-482238d136f0",
   "metadata": {},
   "source": [
    "### Creating a Series"
   ]
  },
  {
   "cell_type": "code",
   "execution_count": 5,
   "id": "6f66fc83-b410-4a6a-99df-18430b27ef2c",
   "metadata": {},
   "outputs": [
    {
     "name": "stdout",
     "output_type": "stream",
     "text": [
      "A    100\n",
      "B    200\n",
      "C    300\n",
      "D    400\n",
      "E    500\n",
      "dtype: int64\n"
     ]
    }
   ],
   "source": [
    "s1=pd.Series([100,200,300,400,500], index=['A','B','C','D','E'])\n",
    "print(s1)"
   ]
  },
  {
   "cell_type": "code",
   "execution_count": 6,
   "id": "c39b5331-4704-4d53-ab0a-5b0781d3d178",
   "metadata": {},
   "outputs": [
    {
     "name": "stdout",
     "output_type": "stream",
     "text": [
      "A    10\n",
      "B    20\n",
      "c    30\n",
      "dtype: int64\n"
     ]
    }
   ],
   "source": [
    "#series Creation with Dictionary\n",
    "data={'A':10,'B':20,'c':30}\n",
    "s2=pd.Series(data)\n",
    "print(s2)\n"
   ]
  },
  {
   "cell_type": "code",
   "execution_count": 7,
   "id": "53a61604-714c-4c3d-8336-e80f7b9c157a",
   "metadata": {},
   "outputs": [],
   "source": [
    "import numpy as np\n",
    "arr=np.array([15,20,25,30,35])"
   ]
  },
  {
   "cell_type": "code",
   "execution_count": 8,
   "id": "d98d39f6-8ec4-4627-a19d-0d9f4dd78ee7",
   "metadata": {},
   "outputs": [
    {
     "name": "stdout",
     "output_type": "stream",
     "text": [
      "0    15\n",
      "1    20\n",
      "2    25\n",
      "3    30\n",
      "4    35\n",
      "dtype: int64\n"
     ]
    }
   ],
   "source": [
    "s3=pd.Series(arr)\n",
    "print(s3)"
   ]
  },
  {
   "cell_type": "markdown",
   "id": "43ef15a7-2f8e-4930-95da-b5fe0c02b0c0",
   "metadata": {},
   "source": [
    "### Series vs DataFrame Differences"
   ]
  },
  {
   "cell_type": "markdown",
   "id": "3a4a2797-77fb-405e-abe4-aa2949342984",
   "metadata": {},
   "source": [
    "### Operations on Series"
   ]
  },
  {
   "cell_type": "code",
   "execution_count": 9,
   "id": "e2a7feea-b212-43be-882b-610cd053c2a3",
   "metadata": {},
   "outputs": [
    {
     "name": "stdout",
     "output_type": "stream",
     "text": [
      "A     200\n",
      "B     400\n",
      "C     600\n",
      "D     800\n",
      "E    1000\n",
      "dtype: int64\n"
     ]
    }
   ],
   "source": [
    "#Mathematical Operations\n",
    "\n",
    "print(s1*2)\n"
   ]
  },
  {
   "cell_type": "code",
   "execution_count": 11,
   "id": "411b13cb-ff84-4c37-b280-22926412d100",
   "metadata": {},
   "outputs": [
    {
     "name": "stdout",
     "output_type": "stream",
     "text": [
      "2    25\n",
      "3    30\n",
      "4    35\n",
      "dtype: int64\n"
     ]
    }
   ],
   "source": [
    "#Filtering Data\n",
    "print(s3[s3>20])"
   ]
  },
  {
   "cell_type": "code",
   "execution_count": 12,
   "id": "07875892-8a30-4859-a4b3-8ce6091eb78c",
   "metadata": {},
   "outputs": [
    {
     "name": "stdout",
     "output_type": "stream",
     "text": [
      "60\n"
     ]
    }
   ],
   "source": [
    "#Aggregation(sum, mean, max, min)\n",
    "print(s2.sum())"
   ]
  },
  {
   "cell_type": "code",
   "execution_count": 13,
   "id": "691002bb-102f-42d4-af34-9f8612960c97",
   "metadata": {},
   "outputs": [
    {
     "name": "stdout",
     "output_type": "stream",
     "text": [
      "20.0\n"
     ]
    }
   ],
   "source": [
    "print(s2.mean())"
   ]
  },
  {
   "cell_type": "code",
   "execution_count": 14,
   "id": "23f74630-cae1-4ec1-81ff-b21abab8e291",
   "metadata": {},
   "outputs": [
    {
     "name": "stdout",
     "output_type": "stream",
     "text": [
      "30\n"
     ]
    }
   ],
   "source": [
    "print(s2.max())"
   ]
  },
  {
   "cell_type": "code",
   "execution_count": 15,
   "id": "5ed0fa89-7eb7-4706-80a5-31b73b41463f",
   "metadata": {},
   "outputs": [
    {
     "name": "stdout",
     "output_type": "stream",
     "text": [
      "15\n"
     ]
    }
   ],
   "source": [
    "print(s3.min())"
   ]
  },
  {
   "cell_type": "code",
   "execution_count": null,
   "id": "54e00f5d-bf3c-43ed-a452-671f44e00fc1",
   "metadata": {},
   "outputs": [],
   "source": []
  }
 ],
 "metadata": {
  "kernelspec": {
   "display_name": "Python 3 (ipykernel)",
   "language": "python",
   "name": "python3"
  },
  "language_info": {
   "codemirror_mode": {
    "name": "ipython",
    "version": 3
   },
   "file_extension": ".py",
   "mimetype": "text/x-python",
   "name": "python",
   "nbconvert_exporter": "python",
   "pygments_lexer": "ipython3",
   "version": "3.11.10"
  }
 },
 "nbformat": 4,
 "nbformat_minor": 5
}
