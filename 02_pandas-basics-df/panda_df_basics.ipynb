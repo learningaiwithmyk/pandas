{
 "cells": [
  {
   "cell_type": "markdown",
   "id": "78980cb5-5f52-41ef-b26f-4c52f5ea7297",
   "metadata": {},
   "source": [
    "## Pandas Basics"
   ]
  },
  {
   "cell_type": "code",
   "execution_count": 1,
   "id": "595b1861-41f1-415b-9b3f-a4808b8088df",
   "metadata": {},
   "outputs": [],
   "source": [
    "import pandas as pd #importing pandas lib"
   ]
  },
  {
   "cell_type": "code",
   "execution_count": 2,
   "id": "9e098616-bafa-4685-8f7b-d18b69155444",
   "metadata": {},
   "outputs": [],
   "source": [
    "df=pd.read_csv('pizza_data.csv')"
   ]
  },
  {
   "cell_type": "code",
   "execution_count": 3,
   "id": "bdc0d36e-efa1-4e27-8287-dbf43167d611",
   "metadata": {},
   "outputs": [
    {
     "data": {
      "text/plain": [
       "(371, 5)"
      ]
     },
     "execution_count": 3,
     "metadata": {},
     "output_type": "execute_result"
    }
   ],
   "source": [
    "df.shape"
   ]
  },
  {
   "cell_type": "code",
   "execution_count": 4,
   "id": "24d75550-4b5c-4a7f-8905-0c8d0326210c",
   "metadata": {},
   "outputs": [
    {
     "data": {
      "text/html": [
       "<div>\n",
       "<style scoped>\n",
       "    .dataframe tbody tr th:only-of-type {\n",
       "        vertical-align: middle;\n",
       "    }\n",
       "\n",
       "    .dataframe tbody tr th {\n",
       "        vertical-align: top;\n",
       "    }\n",
       "\n",
       "    .dataframe thead th {\n",
       "        text-align: right;\n",
       "    }\n",
       "</style>\n",
       "<table border=\"1\" class=\"dataframe\">\n",
       "  <thead>\n",
       "    <tr style=\"text-align: right;\">\n",
       "      <th></th>\n",
       "      <th>Company</th>\n",
       "      <th>Pizza Name</th>\n",
       "      <th>Type</th>\n",
       "      <th>Size</th>\n",
       "      <th>Price</th>\n",
       "    </tr>\n",
       "  </thead>\n",
       "  <tbody>\n",
       "    <tr>\n",
       "      <th>0</th>\n",
       "      <td>Domino's Pizza</td>\n",
       "      <td>Hand Tossed</td>\n",
       "      <td>Cheeses Pizza</td>\n",
       "      <td>Small (10\")</td>\n",
       "      <td>$5.99</td>\n",
       "    </tr>\n",
       "    <tr>\n",
       "      <th>1</th>\n",
       "      <td>Domino's Pizza</td>\n",
       "      <td>Hand Tossed</td>\n",
       "      <td>Cheeses Pizza</td>\n",
       "      <td>Medium (12\")</td>\n",
       "      <td>$7.99</td>\n",
       "    </tr>\n",
       "    <tr>\n",
       "      <th>2</th>\n",
       "      <td>Domino's Pizza</td>\n",
       "      <td>Hand Tossed</td>\n",
       "      <td>Cheeses Pizza</td>\n",
       "      <td>Large (14\")</td>\n",
       "      <td>$9.99</td>\n",
       "    </tr>\n",
       "    <tr>\n",
       "      <th>3</th>\n",
       "      <td>Domino's Pizza</td>\n",
       "      <td>Handmade Pan</td>\n",
       "      <td>Cheeses Pizza</td>\n",
       "      <td>Medium (12\")</td>\n",
       "      <td>$7.99</td>\n",
       "    </tr>\n",
       "    <tr>\n",
       "      <th>4</th>\n",
       "      <td>Domino's Pizza</td>\n",
       "      <td>Crunchy Thin Crust</td>\n",
       "      <td>Cheeses Pizza</td>\n",
       "      <td>Small (10\")</td>\n",
       "      <td>$5.99</td>\n",
       "    </tr>\n",
       "  </tbody>\n",
       "</table>\n",
       "</div>"
      ],
      "text/plain": [
       "          Company          Pizza Name           Type          Size  Price\n",
       "0  Domino's Pizza         Hand Tossed  Cheeses Pizza   Small (10\")  $5.99\n",
       "1  Domino's Pizza         Hand Tossed  Cheeses Pizza  Medium (12\")  $7.99\n",
       "2  Domino's Pizza         Hand Tossed  Cheeses Pizza   Large (14\")  $9.99\n",
       "3  Domino's Pizza        Handmade Pan  Cheeses Pizza  Medium (12\")  $7.99\n",
       "4  Domino's Pizza  Crunchy Thin Crust  Cheeses Pizza   Small (10\")  $5.99"
      ]
     },
     "execution_count": 4,
     "metadata": {},
     "output_type": "execute_result"
    }
   ],
   "source": [
    "df.head()"
   ]
  },
  {
   "cell_type": "code",
   "execution_count": 5,
   "id": "e7518d6f-c8cf-44b1-93b2-eec91fd35f59",
   "metadata": {},
   "outputs": [
    {
     "data": {
      "text/html": [
       "<div>\n",
       "<style scoped>\n",
       "    .dataframe tbody tr th:only-of-type {\n",
       "        vertical-align: middle;\n",
       "    }\n",
       "\n",
       "    .dataframe tbody tr th {\n",
       "        vertical-align: top;\n",
       "    }\n",
       "\n",
       "    .dataframe thead th {\n",
       "        text-align: right;\n",
       "    }\n",
       "</style>\n",
       "<table border=\"1\" class=\"dataframe\">\n",
       "  <thead>\n",
       "    <tr style=\"text-align: right;\">\n",
       "      <th></th>\n",
       "      <th>Company</th>\n",
       "      <th>Pizza Name</th>\n",
       "      <th>Type</th>\n",
       "      <th>Size</th>\n",
       "      <th>Price</th>\n",
       "    </tr>\n",
       "  </thead>\n",
       "  <tbody>\n",
       "    <tr>\n",
       "      <th>0</th>\n",
       "      <td>Domino's Pizza</td>\n",
       "      <td>Hand Tossed</td>\n",
       "      <td>Cheeses Pizza</td>\n",
       "      <td>Small (10\")</td>\n",
       "      <td>$5.99</td>\n",
       "    </tr>\n",
       "    <tr>\n",
       "      <th>1</th>\n",
       "      <td>Domino's Pizza</td>\n",
       "      <td>Hand Tossed</td>\n",
       "      <td>Cheeses Pizza</td>\n",
       "      <td>Medium (12\")</td>\n",
       "      <td>$7.99</td>\n",
       "    </tr>\n",
       "    <tr>\n",
       "      <th>2</th>\n",
       "      <td>Domino's Pizza</td>\n",
       "      <td>Hand Tossed</td>\n",
       "      <td>Cheeses Pizza</td>\n",
       "      <td>Large (14\")</td>\n",
       "      <td>$9.99</td>\n",
       "    </tr>\n",
       "    <tr>\n",
       "      <th>3</th>\n",
       "      <td>Domino's Pizza</td>\n",
       "      <td>Handmade Pan</td>\n",
       "      <td>Cheeses Pizza</td>\n",
       "      <td>Medium (12\")</td>\n",
       "      <td>$7.99</td>\n",
       "    </tr>\n",
       "    <tr>\n",
       "      <th>4</th>\n",
       "      <td>Domino's Pizza</td>\n",
       "      <td>Crunchy Thin Crust</td>\n",
       "      <td>Cheeses Pizza</td>\n",
       "      <td>Small (10\")</td>\n",
       "      <td>$5.99</td>\n",
       "    </tr>\n",
       "    <tr>\n",
       "      <th>5</th>\n",
       "      <td>Domino's Pizza</td>\n",
       "      <td>Crunchy Thin Crust</td>\n",
       "      <td>Cheeses Pizza</td>\n",
       "      <td>Medium (12\")</td>\n",
       "      <td>$7.99</td>\n",
       "    </tr>\n",
       "    <tr>\n",
       "      <th>6</th>\n",
       "      <td>Domino's Pizza</td>\n",
       "      <td>Crunchy Thin Crust</td>\n",
       "      <td>Cheeses Pizza</td>\n",
       "      <td>Large (14\")</td>\n",
       "      <td>$9.99</td>\n",
       "    </tr>\n",
       "    <tr>\n",
       "      <th>7</th>\n",
       "      <td>Domino's Pizza</td>\n",
       "      <td>Brooklyn Style</td>\n",
       "      <td>Cheeses Pizza</td>\n",
       "      <td>Large (14\")</td>\n",
       "      <td>NaN</td>\n",
       "    </tr>\n",
       "    <tr>\n",
       "      <th>8</th>\n",
       "      <td>Domino's Pizza</td>\n",
       "      <td>Brooklyn Style</td>\n",
       "      <td>Cheeses Pizza</td>\n",
       "      <td>X-Large (16\")</td>\n",
       "      <td>$11.99</td>\n",
       "    </tr>\n",
       "    <tr>\n",
       "      <th>9</th>\n",
       "      <td>Domino's Pizza</td>\n",
       "      <td>Gluten Free Crust</td>\n",
       "      <td>Cheeses Pizza</td>\n",
       "      <td>Small (10\")</td>\n",
       "      <td>$8.99</td>\n",
       "    </tr>\n",
       "  </tbody>\n",
       "</table>\n",
       "</div>"
      ],
      "text/plain": [
       "          Company          Pizza Name           Type           Size   Price\n",
       "0  Domino's Pizza         Hand Tossed  Cheeses Pizza    Small (10\")   $5.99\n",
       "1  Domino's Pizza         Hand Tossed  Cheeses Pizza   Medium (12\")   $7.99\n",
       "2  Domino's Pizza         Hand Tossed  Cheeses Pizza    Large (14\")   $9.99\n",
       "3  Domino's Pizza        Handmade Pan  Cheeses Pizza   Medium (12\")   $7.99\n",
       "4  Domino's Pizza  Crunchy Thin Crust  Cheeses Pizza    Small (10\")   $5.99\n",
       "5  Domino's Pizza  Crunchy Thin Crust  Cheeses Pizza   Medium (12\")   $7.99\n",
       "6  Domino's Pizza  Crunchy Thin Crust  Cheeses Pizza    Large (14\")   $9.99\n",
       "7  Domino's Pizza      Brooklyn Style  Cheeses Pizza    Large (14\")     NaN\n",
       "8  Domino's Pizza      Brooklyn Style  Cheeses Pizza  X-Large (16\")  $11.99\n",
       "9  Domino's Pizza   Gluten Free Crust  Cheeses Pizza    Small (10\")   $8.99"
      ]
     },
     "execution_count": 5,
     "metadata": {},
     "output_type": "execute_result"
    }
   ],
   "source": [
    "df.head(10)"
   ]
  },
  {
   "cell_type": "code",
   "execution_count": 6,
   "id": "76f48ad1-eb3a-44c6-b62a-988f8fe582be",
   "metadata": {},
   "outputs": [
    {
     "data": {
      "text/html": [
       "<div>\n",
       "<style scoped>\n",
       "    .dataframe tbody tr th:only-of-type {\n",
       "        vertical-align: middle;\n",
       "    }\n",
       "\n",
       "    .dataframe tbody tr th {\n",
       "        vertical-align: top;\n",
       "    }\n",
       "\n",
       "    .dataframe thead th {\n",
       "        text-align: right;\n",
       "    }\n",
       "</style>\n",
       "<table border=\"1\" class=\"dataframe\">\n",
       "  <thead>\n",
       "    <tr style=\"text-align: right;\">\n",
       "      <th></th>\n",
       "      <th>Company</th>\n",
       "      <th>Pizza Name</th>\n",
       "      <th>Type</th>\n",
       "      <th>Size</th>\n",
       "      <th>Price</th>\n",
       "    </tr>\n",
       "  </thead>\n",
       "  <tbody>\n",
       "    <tr>\n",
       "      <th>366</th>\n",
       "      <td>IMO's Pizza</td>\n",
       "      <td>BBQ Chicken Pizza</td>\n",
       "      <td>Specialty Pizzas</td>\n",
       "      <td>X Large (16\")</td>\n",
       "      <td>$23.85</td>\n",
       "    </tr>\n",
       "    <tr>\n",
       "      <th>367</th>\n",
       "      <td>IMO's Pizza</td>\n",
       "      <td>Egg-Ceptional Pizza</td>\n",
       "      <td>Specialty Pizzas</td>\n",
       "      <td>Small (10\")</td>\n",
       "      <td>$11.80</td>\n",
       "    </tr>\n",
       "    <tr>\n",
       "      <th>368</th>\n",
       "      <td>IMO's Pizza</td>\n",
       "      <td>Egg-Ceptional Pizza</td>\n",
       "      <td>Specialty Pizzas</td>\n",
       "      <td>Medium (12\")</td>\n",
       "      <td>$14.95</td>\n",
       "    </tr>\n",
       "    <tr>\n",
       "      <th>369</th>\n",
       "      <td>IMO's Pizza</td>\n",
       "      <td>Egg-Ceptional Pizza</td>\n",
       "      <td>Specialty Pizzas</td>\n",
       "      <td>Large (14\")</td>\n",
       "      <td>$18.65</td>\n",
       "    </tr>\n",
       "    <tr>\n",
       "      <th>370</th>\n",
       "      <td>IMO's Pizza</td>\n",
       "      <td>Egg-Ceptional Pizza</td>\n",
       "      <td>Specialty Pizzas</td>\n",
       "      <td>X Large (16\")</td>\n",
       "      <td>$22.30</td>\n",
       "    </tr>\n",
       "  </tbody>\n",
       "</table>\n",
       "</div>"
      ],
      "text/plain": [
       "         Company           Pizza Name              Type           Size   Price\n",
       "366  IMO's Pizza    BBQ Chicken Pizza  Specialty Pizzas  X Large (16\")  $23.85\n",
       "367  IMO's Pizza  Egg-Ceptional Pizza  Specialty Pizzas    Small (10\")  $11.80\n",
       "368  IMO's Pizza  Egg-Ceptional Pizza  Specialty Pizzas   Medium (12\")  $14.95\n",
       "369  IMO's Pizza  Egg-Ceptional Pizza  Specialty Pizzas    Large (14\")  $18.65\n",
       "370  IMO's Pizza  Egg-Ceptional Pizza  Specialty Pizzas  X Large (16\")  $22.30"
      ]
     },
     "execution_count": 6,
     "metadata": {},
     "output_type": "execute_result"
    }
   ],
   "source": [
    "df.tail()"
   ]
  },
  {
   "cell_type": "code",
   "execution_count": 7,
   "id": "f7a32d16-4e8d-483f-a490-36d877af4af1",
   "metadata": {},
   "outputs": [
    {
     "data": {
      "text/html": [
       "<div>\n",
       "<style scoped>\n",
       "    .dataframe tbody tr th:only-of-type {\n",
       "        vertical-align: middle;\n",
       "    }\n",
       "\n",
       "    .dataframe tbody tr th {\n",
       "        vertical-align: top;\n",
       "    }\n",
       "\n",
       "    .dataframe thead th {\n",
       "        text-align: right;\n",
       "    }\n",
       "</style>\n",
       "<table border=\"1\" class=\"dataframe\">\n",
       "  <thead>\n",
       "    <tr style=\"text-align: right;\">\n",
       "      <th></th>\n",
       "      <th>Company</th>\n",
       "      <th>Pizza Name</th>\n",
       "      <th>Type</th>\n",
       "      <th>Size</th>\n",
       "      <th>Price</th>\n",
       "    </tr>\n",
       "  </thead>\n",
       "  <tbody>\n",
       "    <tr>\n",
       "      <th>361</th>\n",
       "      <td>IMO's Pizza</td>\n",
       "      <td>All Meat Pizza</td>\n",
       "      <td>Specialty Pizzas</td>\n",
       "      <td>Large (14\")</td>\n",
       "      <td>$19.95</td>\n",
       "    </tr>\n",
       "    <tr>\n",
       "      <th>362</th>\n",
       "      <td>IMO's Pizza</td>\n",
       "      <td>All Meat Pizza</td>\n",
       "      <td>Specialty Pizzas</td>\n",
       "      <td>X Large (16\")</td>\n",
       "      <td>$23.85</td>\n",
       "    </tr>\n",
       "    <tr>\n",
       "      <th>363</th>\n",
       "      <td>IMO's Pizza</td>\n",
       "      <td>BBQ Chicken Pizza</td>\n",
       "      <td>Specialty Pizzas</td>\n",
       "      <td>Small (10\")</td>\n",
       "      <td>$12.70</td>\n",
       "    </tr>\n",
       "    <tr>\n",
       "      <th>364</th>\n",
       "      <td>IMO's Pizza</td>\n",
       "      <td>BBQ Chicken Pizza</td>\n",
       "      <td>Specialty Pizzas</td>\n",
       "      <td>Medium (12\")</td>\n",
       "      <td>$16.20</td>\n",
       "    </tr>\n",
       "    <tr>\n",
       "      <th>365</th>\n",
       "      <td>IMO's Pizza</td>\n",
       "      <td>BBQ Chicken Pizza</td>\n",
       "      <td>Specialty Pizzas</td>\n",
       "      <td>Large (14\")</td>\n",
       "      <td>$19.20</td>\n",
       "    </tr>\n",
       "    <tr>\n",
       "      <th>366</th>\n",
       "      <td>IMO's Pizza</td>\n",
       "      <td>BBQ Chicken Pizza</td>\n",
       "      <td>Specialty Pizzas</td>\n",
       "      <td>X Large (16\")</td>\n",
       "      <td>$23.85</td>\n",
       "    </tr>\n",
       "    <tr>\n",
       "      <th>367</th>\n",
       "      <td>IMO's Pizza</td>\n",
       "      <td>Egg-Ceptional Pizza</td>\n",
       "      <td>Specialty Pizzas</td>\n",
       "      <td>Small (10\")</td>\n",
       "      <td>$11.80</td>\n",
       "    </tr>\n",
       "    <tr>\n",
       "      <th>368</th>\n",
       "      <td>IMO's Pizza</td>\n",
       "      <td>Egg-Ceptional Pizza</td>\n",
       "      <td>Specialty Pizzas</td>\n",
       "      <td>Medium (12\")</td>\n",
       "      <td>$14.95</td>\n",
       "    </tr>\n",
       "    <tr>\n",
       "      <th>369</th>\n",
       "      <td>IMO's Pizza</td>\n",
       "      <td>Egg-Ceptional Pizza</td>\n",
       "      <td>Specialty Pizzas</td>\n",
       "      <td>Large (14\")</td>\n",
       "      <td>$18.65</td>\n",
       "    </tr>\n",
       "    <tr>\n",
       "      <th>370</th>\n",
       "      <td>IMO's Pizza</td>\n",
       "      <td>Egg-Ceptional Pizza</td>\n",
       "      <td>Specialty Pizzas</td>\n",
       "      <td>X Large (16\")</td>\n",
       "      <td>$22.30</td>\n",
       "    </tr>\n",
       "  </tbody>\n",
       "</table>\n",
       "</div>"
      ],
      "text/plain": [
       "         Company           Pizza Name              Type           Size   Price\n",
       "361  IMO's Pizza       All Meat Pizza  Specialty Pizzas    Large (14\")  $19.95\n",
       "362  IMO's Pizza       All Meat Pizza  Specialty Pizzas  X Large (16\")  $23.85\n",
       "363  IMO's Pizza    BBQ Chicken Pizza  Specialty Pizzas    Small (10\")  $12.70\n",
       "364  IMO's Pizza    BBQ Chicken Pizza  Specialty Pizzas   Medium (12\")  $16.20\n",
       "365  IMO's Pizza    BBQ Chicken Pizza  Specialty Pizzas    Large (14\")  $19.20\n",
       "366  IMO's Pizza    BBQ Chicken Pizza  Specialty Pizzas  X Large (16\")  $23.85\n",
       "367  IMO's Pizza  Egg-Ceptional Pizza  Specialty Pizzas    Small (10\")  $11.80\n",
       "368  IMO's Pizza  Egg-Ceptional Pizza  Specialty Pizzas   Medium (12\")  $14.95\n",
       "369  IMO's Pizza  Egg-Ceptional Pizza  Specialty Pizzas    Large (14\")  $18.65\n",
       "370  IMO's Pizza  Egg-Ceptional Pizza  Specialty Pizzas  X Large (16\")  $22.30"
      ]
     },
     "execution_count": 7,
     "metadata": {},
     "output_type": "execute_result"
    }
   ],
   "source": [
    "df.tail(10)"
   ]
  },
  {
   "cell_type": "code",
   "execution_count": 8,
   "id": "a11a6d47-b8e1-4030-aa69-6c75e3cbb292",
   "metadata": {},
   "outputs": [
    {
     "data": {
      "text/plain": [
       "0      Domino's Pizza\n",
       "1      Domino's Pizza\n",
       "2      Domino's Pizza\n",
       "3      Domino's Pizza\n",
       "4      Domino's Pizza\n",
       "            ...      \n",
       "366       IMO's Pizza\n",
       "367       IMO's Pizza\n",
       "368       IMO's Pizza\n",
       "369       IMO's Pizza\n",
       "370       IMO's Pizza\n",
       "Name: Company, Length: 371, dtype: object"
      ]
     },
     "execution_count": 8,
     "metadata": {},
     "output_type": "execute_result"
    }
   ],
   "source": [
    "df.Company"
   ]
  },
  {
   "cell_type": "code",
   "execution_count": 9,
   "id": "95bd29c8-221c-49c3-9669-53354b201777",
   "metadata": {},
   "outputs": [
    {
     "data": {
      "text/plain": [
       "array([\"Domino's Pizza\", 'Pizza Hut', \"Godfather's Pizza\", \"IMO's Pizza\"],\n",
       "      dtype=object)"
      ]
     },
     "execution_count": 9,
     "metadata": {},
     "output_type": "execute_result"
    }
   ],
   "source": [
    "df.Company.unique()"
   ]
  },
  {
   "cell_type": "code",
   "execution_count": 12,
   "id": "cd1220da-2b75-4a17-b796-e9261c49d841",
   "metadata": {},
   "outputs": [
    {
     "data": {
      "text/html": [
       "<div>\n",
       "<style scoped>\n",
       "    .dataframe tbody tr th:only-of-type {\n",
       "        vertical-align: middle;\n",
       "    }\n",
       "\n",
       "    .dataframe tbody tr th {\n",
       "        vertical-align: top;\n",
       "    }\n",
       "\n",
       "    .dataframe thead th {\n",
       "        text-align: right;\n",
       "    }\n",
       "</style>\n",
       "<table border=\"1\" class=\"dataframe\">\n",
       "  <thead>\n",
       "    <tr style=\"text-align: right;\">\n",
       "      <th></th>\n",
       "      <th>Company</th>\n",
       "      <th>Pizza Name</th>\n",
       "      <th>Type</th>\n",
       "      <th>Size</th>\n",
       "      <th>Price</th>\n",
       "    </tr>\n",
       "  </thead>\n",
       "  <tbody>\n",
       "    <tr>\n",
       "      <th>0</th>\n",
       "      <td>False</td>\n",
       "      <td>False</td>\n",
       "      <td>False</td>\n",
       "      <td>False</td>\n",
       "      <td>False</td>\n",
       "    </tr>\n",
       "    <tr>\n",
       "      <th>1</th>\n",
       "      <td>False</td>\n",
       "      <td>False</td>\n",
       "      <td>False</td>\n",
       "      <td>False</td>\n",
       "      <td>False</td>\n",
       "    </tr>\n",
       "    <tr>\n",
       "      <th>2</th>\n",
       "      <td>False</td>\n",
       "      <td>False</td>\n",
       "      <td>False</td>\n",
       "      <td>False</td>\n",
       "      <td>False</td>\n",
       "    </tr>\n",
       "    <tr>\n",
       "      <th>3</th>\n",
       "      <td>False</td>\n",
       "      <td>False</td>\n",
       "      <td>False</td>\n",
       "      <td>False</td>\n",
       "      <td>False</td>\n",
       "    </tr>\n",
       "    <tr>\n",
       "      <th>4</th>\n",
       "      <td>False</td>\n",
       "      <td>False</td>\n",
       "      <td>False</td>\n",
       "      <td>False</td>\n",
       "      <td>False</td>\n",
       "    </tr>\n",
       "    <tr>\n",
       "      <th>...</th>\n",
       "      <td>...</td>\n",
       "      <td>...</td>\n",
       "      <td>...</td>\n",
       "      <td>...</td>\n",
       "      <td>...</td>\n",
       "    </tr>\n",
       "    <tr>\n",
       "      <th>366</th>\n",
       "      <td>False</td>\n",
       "      <td>False</td>\n",
       "      <td>False</td>\n",
       "      <td>False</td>\n",
       "      <td>False</td>\n",
       "    </tr>\n",
       "    <tr>\n",
       "      <th>367</th>\n",
       "      <td>False</td>\n",
       "      <td>False</td>\n",
       "      <td>False</td>\n",
       "      <td>False</td>\n",
       "      <td>False</td>\n",
       "    </tr>\n",
       "    <tr>\n",
       "      <th>368</th>\n",
       "      <td>False</td>\n",
       "      <td>False</td>\n",
       "      <td>False</td>\n",
       "      <td>False</td>\n",
       "      <td>False</td>\n",
       "    </tr>\n",
       "    <tr>\n",
       "      <th>369</th>\n",
       "      <td>False</td>\n",
       "      <td>False</td>\n",
       "      <td>False</td>\n",
       "      <td>False</td>\n",
       "      <td>False</td>\n",
       "    </tr>\n",
       "    <tr>\n",
       "      <th>370</th>\n",
       "      <td>False</td>\n",
       "      <td>False</td>\n",
       "      <td>False</td>\n",
       "      <td>False</td>\n",
       "      <td>False</td>\n",
       "    </tr>\n",
       "  </tbody>\n",
       "</table>\n",
       "<p>371 rows × 5 columns</p>\n",
       "</div>"
      ],
      "text/plain": [
       "     Company  Pizza Name   Type   Size  Price\n",
       "0      False       False  False  False  False\n",
       "1      False       False  False  False  False\n",
       "2      False       False  False  False  False\n",
       "3      False       False  False  False  False\n",
       "4      False       False  False  False  False\n",
       "..       ...         ...    ...    ...    ...\n",
       "366    False       False  False  False  False\n",
       "367    False       False  False  False  False\n",
       "368    False       False  False  False  False\n",
       "369    False       False  False  False  False\n",
       "370    False       False  False  False  False\n",
       "\n",
       "[371 rows x 5 columns]"
      ]
     },
     "execution_count": 12,
     "metadata": {},
     "output_type": "execute_result"
    }
   ],
   "source": [
    "df.isnull()"
   ]
  },
  {
   "cell_type": "code",
   "execution_count": 13,
   "id": "23c2d5ab-1cc8-4bc5-98d5-7f745fe5498c",
   "metadata": {},
   "outputs": [
    {
     "data": {
      "text/plain": [
       "Company       0\n",
       "Pizza Name    0\n",
       "Type          0\n",
       "Size          3\n",
       "Price         6\n",
       "dtype: int64"
      ]
     },
     "execution_count": 13,
     "metadata": {},
     "output_type": "execute_result"
    }
   ],
   "source": [
    "df.isnull().sum()"
   ]
  },
  {
   "cell_type": "code",
   "execution_count": 15,
   "id": "f302e3e0-48de-4097-9892-a515564efae1",
   "metadata": {},
   "outputs": [],
   "source": [
    "df2=df.dropna()"
   ]
  },
  {
   "cell_type": "code",
   "execution_count": 16,
   "id": "6bf10edc-3692-4de3-bc8c-eb6c3fc4a2f6",
   "metadata": {},
   "outputs": [
    {
     "data": {
      "text/plain": [
       "(362, 5)"
      ]
     },
     "execution_count": 16,
     "metadata": {},
     "output_type": "execute_result"
    }
   ],
   "source": [
    "df2.shape"
   ]
  },
  {
   "cell_type": "code",
   "execution_count": 17,
   "id": "a15d5334-af68-4cd9-bb3c-4445252ea4d2",
   "metadata": {},
   "outputs": [
    {
     "data": {
      "text/plain": [
       "Company       0\n",
       "Pizza Name    0\n",
       "Type          0\n",
       "Size          0\n",
       "Price         0\n",
       "dtype: int64"
      ]
     },
     "execution_count": 17,
     "metadata": {},
     "output_type": "execute_result"
    }
   ],
   "source": [
    "df2.isnull().sum()"
   ]
  },
  {
   "cell_type": "code",
   "execution_count": null,
   "id": "044f3d2d-79c9-45e8-b22a-f9f24bd4815f",
   "metadata": {},
   "outputs": [],
   "source": []
  }
 ],
 "metadata": {
  "kernelspec": {
   "display_name": "Python 3 (ipykernel)",
   "language": "python",
   "name": "python3"
  },
  "language_info": {
   "codemirror_mode": {
    "name": "ipython",
    "version": 3
   },
   "file_extension": ".py",
   "mimetype": "text/x-python",
   "name": "python",
   "nbconvert_exporter": "python",
   "pygments_lexer": "ipython3",
   "version": "3.11.10"
  }
 },
 "nbformat": 4,
 "nbformat_minor": 5
}
