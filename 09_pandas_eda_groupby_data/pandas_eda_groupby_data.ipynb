{
 "cells": [
  {
   "cell_type": "markdown",
   "id": "1939f025-fc91-4236-873d-01f65799144a",
   "metadata": {},
   "source": [
    "## Pandas dataframe.groupby() Method"
   ]
  },
  {
   "cell_type": "code",
   "execution_count": 1,
   "id": "1165a5fd-491c-4f99-a76e-277e0bd1f36b",
   "metadata": {},
   "outputs": [],
   "source": [
    "import pandas as pd\n",
    "df=pd.read_csv('students.csv')"
   ]
  },
  {
   "cell_type": "code",
   "execution_count": 2,
   "id": "193154f4-2acb-463a-93c2-f7f03326636a",
   "metadata": {},
   "outputs": [
    {
     "data": {
      "text/html": [
       "<div>\n",
       "<style scoped>\n",
       "    .dataframe tbody tr th:only-of-type {\n",
       "        vertical-align: middle;\n",
       "    }\n",
       "\n",
       "    .dataframe tbody tr th {\n",
       "        vertical-align: top;\n",
       "    }\n",
       "\n",
       "    .dataframe thead th {\n",
       "        text-align: right;\n",
       "    }\n",
       "</style>\n",
       "<table border=\"1\" class=\"dataframe\">\n",
       "  <thead>\n",
       "    <tr style=\"text-align: right;\">\n",
       "      <th></th>\n",
       "      <th>StudentID</th>\n",
       "      <th>Name</th>\n",
       "      <th>Age</th>\n",
       "      <th>Email</th>\n",
       "      <th>Department</th>\n",
       "      <th>GPA</th>\n",
       "      <th>GraduationYear</th>\n",
       "    </tr>\n",
       "  </thead>\n",
       "  <tbody>\n",
       "    <tr>\n",
       "      <th>0</th>\n",
       "      <td>3336</td>\n",
       "      <td>David Palmer</td>\n",
       "      <td>19.0</td>\n",
       "      <td>sean43@hotmail.com</td>\n",
       "      <td>Mathematics</td>\n",
       "      <td>3.16</td>\n",
       "      <td>2022</td>\n",
       "    </tr>\n",
       "    <tr>\n",
       "      <th>1</th>\n",
       "      <td>8774</td>\n",
       "      <td>Andrew Roach</td>\n",
       "      <td>23.0</td>\n",
       "      <td>vbecker@harvey.com</td>\n",
       "      <td>Chemistry</td>\n",
       "      <td>3.75</td>\n",
       "      <td>2023</td>\n",
       "    </tr>\n",
       "    <tr>\n",
       "      <th>2</th>\n",
       "      <td>1396</td>\n",
       "      <td>Jonathan Gonzalez</td>\n",
       "      <td>22.0</td>\n",
       "      <td>hollydavis@gmail.com</td>\n",
       "      <td>Physics</td>\n",
       "      <td>2.95</td>\n",
       "      <td>2023</td>\n",
       "    </tr>\n",
       "    <tr>\n",
       "      <th>3</th>\n",
       "      <td>6716</td>\n",
       "      <td>Kenneth Morrow</td>\n",
       "      <td>24.0</td>\n",
       "      <td>ganderson@wheeler-atkins.info</td>\n",
       "      <td>Physics</td>\n",
       "      <td>3.55</td>\n",
       "      <td>2021</td>\n",
       "    </tr>\n",
       "    <tr>\n",
       "      <th>4</th>\n",
       "      <td>5305</td>\n",
       "      <td>Tiffany Wolf</td>\n",
       "      <td>NaN</td>\n",
       "      <td>qanderson@taylor.com</td>\n",
       "      <td>Mathematics</td>\n",
       "      <td>3.30</td>\n",
       "      <td>2021</td>\n",
       "    </tr>\n",
       "  </tbody>\n",
       "</table>\n",
       "</div>"
      ],
      "text/plain": [
       "   StudentID               Name   Age                          Email  \\\n",
       "0       3336       David Palmer  19.0             sean43@hotmail.com   \n",
       "1       8774       Andrew Roach  23.0             vbecker@harvey.com   \n",
       "2       1396  Jonathan Gonzalez  22.0           hollydavis@gmail.com   \n",
       "3       6716     Kenneth Morrow  24.0  ganderson@wheeler-atkins.info   \n",
       "4       5305       Tiffany Wolf   NaN           qanderson@taylor.com   \n",
       "\n",
       "    Department   GPA  GraduationYear  \n",
       "0  Mathematics  3.16            2022  \n",
       "1    Chemistry  3.75            2023  \n",
       "2      Physics  2.95            2023  \n",
       "3      Physics  3.55            2021  \n",
       "4  Mathematics  3.30            2021  "
      ]
     },
     "execution_count": 2,
     "metadata": {},
     "output_type": "execute_result"
    }
   ],
   "source": [
    "df.head()"
   ]
  },
  {
   "cell_type": "code",
   "execution_count": 3,
   "id": "272176b0-213a-4429-9e64-9b93b41d604a",
   "metadata": {},
   "outputs": [
    {
     "data": {
      "text/plain": [
       "GraduationYear\n",
       "2020     4\n",
       "2021     6\n",
       "2022     3\n",
       "2023    10\n",
       "2024     7\n",
       "Name: StudentID, dtype: int64"
      ]
     },
     "execution_count": 3,
     "metadata": {},
     "output_type": "execute_result"
    }
   ],
   "source": [
    "sdf=df.groupby('GraduationYear')['StudentID'].count()\n",
    "sdf"
   ]
  },
  {
   "cell_type": "code",
   "execution_count": 4,
   "id": "a9d6d220-04af-476b-95c3-977403d2f573",
   "metadata": {},
   "outputs": [
    {
     "data": {
      "text/plain": [
       "GraduationYear  Department      \n",
       "2020            Chemistry           1\n",
       "                Computer Science    2\n",
       "                Mathematics         1\n",
       "2021            Biology             1\n",
       "                Chemistry           2\n",
       "                Mathematics         2\n",
       "                Physics             1\n",
       "2022            Mathematics         2\n",
       "                Physics             1\n",
       "2023            Biology             1\n",
       "                Chemistry           1\n",
       "                Mathematics         3\n",
       "                Physics             5\n",
       "2024            Biology             2\n",
       "                Chemistry           3\n",
       "                Computer Science    1\n",
       "                Physics             1\n",
       "Name: StudentID, dtype: int64"
      ]
     },
     "execution_count": 4,
     "metadata": {},
     "output_type": "execute_result"
    }
   ],
   "source": [
    "sdf2=df.groupby(['GraduationYear','Department'])['StudentID'].count()\n",
    "sdf2"
   ]
  },
  {
   "cell_type": "code",
   "execution_count": 5,
   "id": "f79a98ce-8948-4a86-bd4d-7023ddf57814",
   "metadata": {},
   "outputs": [
    {
     "data": {
      "text/plain": [
       "GraduationYear  Department      \n",
       "2020            Chemistry           2.300000\n",
       "                Computer Science    2.830000\n",
       "                Mathematics         2.840000\n",
       "2021            Biology             3.860000\n",
       "                Chemistry           2.365000\n",
       "                Mathematics         3.370000\n",
       "                Physics             3.550000\n",
       "2022            Mathematics         3.330000\n",
       "                Physics             3.520000\n",
       "2023            Biology             3.070000\n",
       "                Chemistry           3.750000\n",
       "                Mathematics         3.480000\n",
       "                Physics             3.002000\n",
       "2024            Biology             3.355000\n",
       "                Chemistry           3.146667\n",
       "                Computer Science    3.970000\n",
       "                Physics             3.160000\n",
       "Name: GPA, dtype: float64"
      ]
     },
     "execution_count": 5,
     "metadata": {},
     "output_type": "execute_result"
    }
   ],
   "source": [
    "sdf3=df.groupby(['GraduationYear','Department'])['GPA'].mean()\n",
    "sdf3"
   ]
  },
  {
   "cell_type": "code",
   "execution_count": 6,
   "id": "d54d4bda-8323-49c4-8247-ecbe7fd0b02e",
   "metadata": {},
   "outputs": [
    {
     "data": {
      "text/html": [
       "<div>\n",
       "<style scoped>\n",
       "    .dataframe tbody tr th:only-of-type {\n",
       "        vertical-align: middle;\n",
       "    }\n",
       "\n",
       "    .dataframe tbody tr th {\n",
       "        vertical-align: top;\n",
       "    }\n",
       "\n",
       "    .dataframe thead th {\n",
       "        text-align: right;\n",
       "    }\n",
       "</style>\n",
       "<table border=\"1\" class=\"dataframe\">\n",
       "  <thead>\n",
       "    <tr style=\"text-align: right;\">\n",
       "      <th></th>\n",
       "      <th>mean</th>\n",
       "      <th>max</th>\n",
       "      <th>min</th>\n",
       "    </tr>\n",
       "    <tr>\n",
       "      <th>GraduationYear</th>\n",
       "      <th></th>\n",
       "      <th></th>\n",
       "      <th></th>\n",
       "    </tr>\n",
       "  </thead>\n",
       "  <tbody>\n",
       "    <tr>\n",
       "      <th>2020</th>\n",
       "      <td>2.700000</td>\n",
       "      <td>3.52</td>\n",
       "      <td>2.14</td>\n",
       "    </tr>\n",
       "    <tr>\n",
       "      <th>2021</th>\n",
       "      <td>3.146667</td>\n",
       "      <td>3.86</td>\n",
       "      <td>2.29</td>\n",
       "    </tr>\n",
       "    <tr>\n",
       "      <th>2022</th>\n",
       "      <td>3.393333</td>\n",
       "      <td>3.52</td>\n",
       "      <td>3.16</td>\n",
       "    </tr>\n",
       "    <tr>\n",
       "      <th>2023</th>\n",
       "      <td>3.227000</td>\n",
       "      <td>3.97</td>\n",
       "      <td>2.11</td>\n",
       "    </tr>\n",
       "    <tr>\n",
       "      <th>2024</th>\n",
       "      <td>3.325714</td>\n",
       "      <td>3.97</td>\n",
       "      <td>2.76</td>\n",
       "    </tr>\n",
       "  </tbody>\n",
       "</table>\n",
       "</div>"
      ],
      "text/plain": [
       "                    mean   max   min\n",
       "GraduationYear                      \n",
       "2020            2.700000  3.52  2.14\n",
       "2021            3.146667  3.86  2.29\n",
       "2022            3.393333  3.52  3.16\n",
       "2023            3.227000  3.97  2.11\n",
       "2024            3.325714  3.97  2.76"
      ]
     },
     "execution_count": 6,
     "metadata": {},
     "output_type": "execute_result"
    }
   ],
   "source": [
    "sdf4=df.groupby(['GraduationYear'])['GPA'].agg(['mean','max','min'])\n",
    "sdf4"
   ]
  },
  {
   "cell_type": "code",
   "execution_count": 7,
   "id": "8d53f196-3b09-41b9-8219-86eb88f98680",
   "metadata": {},
   "outputs": [
    {
     "data": {
      "text/html": [
       "<div>\n",
       "<style scoped>\n",
       "    .dataframe tbody tr th:only-of-type {\n",
       "        vertical-align: middle;\n",
       "    }\n",
       "\n",
       "    .dataframe tbody tr th {\n",
       "        vertical-align: top;\n",
       "    }\n",
       "\n",
       "    .dataframe thead th {\n",
       "        text-align: right;\n",
       "    }\n",
       "</style>\n",
       "<table border=\"1\" class=\"dataframe\">\n",
       "  <thead>\n",
       "    <tr style=\"text-align: right;\">\n",
       "      <th></th>\n",
       "      <th>gpa_mean</th>\n",
       "      <th>year_student_count</th>\n",
       "    </tr>\n",
       "    <tr>\n",
       "      <th>GraduationYear</th>\n",
       "      <th></th>\n",
       "      <th></th>\n",
       "    </tr>\n",
       "  </thead>\n",
       "  <tbody>\n",
       "    <tr>\n",
       "      <th>2020</th>\n",
       "      <td>2.700000</td>\n",
       "      <td>4</td>\n",
       "    </tr>\n",
       "    <tr>\n",
       "      <th>2021</th>\n",
       "      <td>3.146667</td>\n",
       "      <td>6</td>\n",
       "    </tr>\n",
       "    <tr>\n",
       "      <th>2022</th>\n",
       "      <td>3.393333</td>\n",
       "      <td>3</td>\n",
       "    </tr>\n",
       "    <tr>\n",
       "      <th>2023</th>\n",
       "      <td>3.227000</td>\n",
       "      <td>10</td>\n",
       "    </tr>\n",
       "    <tr>\n",
       "      <th>2024</th>\n",
       "      <td>3.325714</td>\n",
       "      <td>7</td>\n",
       "    </tr>\n",
       "  </tbody>\n",
       "</table>\n",
       "</div>"
      ],
      "text/plain": [
       "                gpa_mean  year_student_count\n",
       "GraduationYear                              \n",
       "2020            2.700000                   4\n",
       "2021            3.146667                   6\n",
       "2022            3.393333                   3\n",
       "2023            3.227000                  10\n",
       "2024            3.325714                   7"
      ]
     },
     "execution_count": 7,
     "metadata": {},
     "output_type": "execute_result"
    }
   ],
   "source": [
    "sdf5=df.groupby(['GraduationYear']).agg(gpa_mean=('GPA','mean'), year_student_count=('StudentID','count'))\n",
    "sdf5"
   ]
  },
  {
   "cell_type": "code",
   "execution_count": null,
   "id": "6d00f0d6-930c-4bc9-aab5-8fc99bf8d269",
   "metadata": {},
   "outputs": [],
   "source": []
  }
 ],
 "metadata": {
  "kernelspec": {
   "display_name": "Python 3 (ipykernel)",
   "language": "python",
   "name": "python3"
  },
  "language_info": {
   "codemirror_mode": {
    "name": "ipython",
    "version": 3
   },
   "file_extension": ".py",
   "mimetype": "text/x-python",
   "name": "python",
   "nbconvert_exporter": "python",
   "pygments_lexer": "ipython3",
   "version": "3.11.10"
  }
 },
 "nbformat": 4,
 "nbformat_minor": 5
}
