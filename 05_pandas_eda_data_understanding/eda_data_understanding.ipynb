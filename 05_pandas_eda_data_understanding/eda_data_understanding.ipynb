{
 "cells": [
  {
   "cell_type": "markdown",
   "id": "67ef0d57-cd1e-43c8-b17e-71bae4ef9aa6",
   "metadata": {},
   "source": [
    "## Understanding Data in Pandas"
   ]
  },
  {
   "cell_type": "markdown",
   "id": "39f3c2bb-5dc1-46ab-9a8d-0a0e8ab1edf2",
   "metadata": {},
   "source": [
    "### #1 df.info()"
   ]
  },
  {
   "cell_type": "markdown",
   "id": "e21e36ed-82d6-4182-9a58-3550b8e80e07",
   "metadata": {},
   "source": [
    "### #2 df.shape"
   ]
  },
  {
   "cell_type": "markdown",
   "id": "2a6c5883-2e3b-4c6a-8c01-daa6978d1c22",
   "metadata": {},
   "source": [
    "### #3 df.describe()"
   ]
  },
  {
   "cell_type": "markdown",
   "id": "12ca9a99-4b47-4a48-94fe-1baedaace794",
   "metadata": {},
   "source": [
    "### #4 df.dtypes"
   ]
  },
  {
   "cell_type": "markdown",
   "id": "51ac4a43-358d-47ca-88b4-39bd6f24fce9",
   "metadata": {},
   "source": [
    "### #5 df.columns"
   ]
  },
  {
   "cell_type": "code",
   "execution_count": 20,
   "id": "6f370fd7-5242-4428-b8f2-b9a9beb7eb93",
   "metadata": {},
   "outputs": [],
   "source": [
    "import pandas as pd\n",
    "df1=pd.read_excel('financial_data.xlsx')"
   ]
  },
  {
   "cell_type": "code",
   "execution_count": 21,
   "id": "5e35f2f4-ad45-486b-9b11-7db4735d9bf5",
   "metadata": {},
   "outputs": [
    {
     "name": "stdout",
     "output_type": "stream",
     "text": [
      "<class 'pandas.core.frame.DataFrame'>\n",
      "RangeIndex: 700 entries, 0 to 699\n",
      "Data columns (total 16 columns):\n",
      " #   Column               Non-Null Count  Dtype         \n",
      "---  ------               --------------  -----         \n",
      " 0   Segment              700 non-null    object        \n",
      " 1   Country              700 non-null    object        \n",
      " 2   Product              697 non-null    object        \n",
      " 3   Discount Band        647 non-null    object        \n",
      " 4   Units Sold           700 non-null    float64       \n",
      " 5   Manufacturing Price  700 non-null    int64         \n",
      " 6   Sale Price           698 non-null    float64       \n",
      " 7   Gross Sales          698 non-null    float64       \n",
      " 8   Discounts            695 non-null    float64       \n",
      " 9    Sales               700 non-null    float64       \n",
      " 10  COGS                 700 non-null    float64       \n",
      " 11  Profit               694 non-null    float64       \n",
      " 12  Date                 697 non-null    datetime64[ns]\n",
      " 13  Month Number         700 non-null    int64         \n",
      " 14  Month Name           696 non-null    object        \n",
      " 15  Year                 700 non-null    int64         \n",
      "dtypes: datetime64[ns](1), float64(7), int64(3), object(5)\n",
      "memory usage: 87.6+ KB\n"
     ]
    }
   ],
   "source": [
    "df1.info()"
   ]
  },
  {
   "cell_type": "code",
   "execution_count": 24,
   "id": "b2435ac8-948e-4cf9-8921-60973ad6a46e",
   "metadata": {},
   "outputs": [
    {
     "data": {
      "text/plain": [
       "(700, 16)"
      ]
     },
     "execution_count": 24,
     "metadata": {},
     "output_type": "execute_result"
    }
   ],
   "source": [
    "df1.shape"
   ]
  },
  {
   "cell_type": "code",
   "execution_count": 25,
   "id": "d2c6d218-30fd-44a2-887a-6fc1c6fdf039",
   "metadata": {},
   "outputs": [
    {
     "data": {
      "text/html": [
       "<div>\n",
       "<style scoped>\n",
       "    .dataframe tbody tr th:only-of-type {\n",
       "        vertical-align: middle;\n",
       "    }\n",
       "\n",
       "    .dataframe tbody tr th {\n",
       "        vertical-align: top;\n",
       "    }\n",
       "\n",
       "    .dataframe thead th {\n",
       "        text-align: right;\n",
       "    }\n",
       "</style>\n",
       "<table border=\"1\" class=\"dataframe\">\n",
       "  <thead>\n",
       "    <tr style=\"text-align: right;\">\n",
       "      <th></th>\n",
       "      <th>Units Sold</th>\n",
       "      <th>Manufacturing Price</th>\n",
       "      <th>Sale Price</th>\n",
       "      <th>Gross Sales</th>\n",
       "      <th>Discounts</th>\n",
       "      <th>Sales</th>\n",
       "      <th>COGS</th>\n",
       "      <th>Profit</th>\n",
       "      <th>Date</th>\n",
       "      <th>Month Number</th>\n",
       "      <th>Year</th>\n",
       "    </tr>\n",
       "  </thead>\n",
       "  <tbody>\n",
       "    <tr>\n",
       "      <th>count</th>\n",
       "      <td>700.000000</td>\n",
       "      <td>700.000000</td>\n",
       "      <td>698.000000</td>\n",
       "      <td>6.980000e+02</td>\n",
       "      <td>695.000000</td>\n",
       "      <td>7.000000e+02</td>\n",
       "      <td>700.000000</td>\n",
       "      <td>694.000000</td>\n",
       "      <td>697</td>\n",
       "      <td>700.000000</td>\n",
       "      <td>700.000000</td>\n",
       "    </tr>\n",
       "    <tr>\n",
       "      <th>mean</th>\n",
       "      <td>1608.294286</td>\n",
       "      <td>96.477143</td>\n",
       "      <td>118.717765</td>\n",
       "      <td>1.823485e+05</td>\n",
       "      <td>13234.127209</td>\n",
       "      <td>1.696091e+05</td>\n",
       "      <td>145475.211429</td>\n",
       "      <td>24092.383228</td>\n",
       "      <td>2014-04-28 14:58:42.525107456</td>\n",
       "      <td>7.900000</td>\n",
       "      <td>2013.750000</td>\n",
       "    </tr>\n",
       "    <tr>\n",
       "      <th>min</th>\n",
       "      <td>200.000000</td>\n",
       "      <td>3.000000</td>\n",
       "      <td>7.000000</td>\n",
       "      <td>1.799000e+03</td>\n",
       "      <td>0.000000</td>\n",
       "      <td>1.655080e+03</td>\n",
       "      <td>918.000000</td>\n",
       "      <td>-40617.500000</td>\n",
       "      <td>2013-09-01 00:00:00</td>\n",
       "      <td>1.000000</td>\n",
       "      <td>2013.000000</td>\n",
       "    </tr>\n",
       "    <tr>\n",
       "      <th>25%</th>\n",
       "      <td>905.000000</td>\n",
       "      <td>5.000000</td>\n",
       "      <td>12.000000</td>\n",
       "      <td>1.740900e+04</td>\n",
       "      <td>807.725000</td>\n",
       "      <td>1.592800e+04</td>\n",
       "      <td>7490.000000</td>\n",
       "      <td>2783.272500</td>\n",
       "      <td>2014-01-01 00:00:00</td>\n",
       "      <td>5.750000</td>\n",
       "      <td>2013.750000</td>\n",
       "    </tr>\n",
       "    <tr>\n",
       "      <th>50%</th>\n",
       "      <td>1542.500000</td>\n",
       "      <td>10.000000</td>\n",
       "      <td>20.000000</td>\n",
       "      <td>3.798000e+04</td>\n",
       "      <td>2643.750000</td>\n",
       "      <td>3.554020e+04</td>\n",
       "      <td>22506.250000</td>\n",
       "      <td>9241.800000</td>\n",
       "      <td>2014-05-01 00:00:00</td>\n",
       "      <td>9.000000</td>\n",
       "      <td>2014.000000</td>\n",
       "    </tr>\n",
       "    <tr>\n",
       "      <th>75%</th>\n",
       "      <td>2229.125000</td>\n",
       "      <td>250.000000</td>\n",
       "      <td>300.000000</td>\n",
       "      <td>2.767500e+05</td>\n",
       "      <td>16164.750000</td>\n",
       "      <td>2.610775e+05</td>\n",
       "      <td>245607.500000</td>\n",
       "      <td>22633.110000</td>\n",
       "      <td>2014-09-01 00:00:00</td>\n",
       "      <td>10.250000</td>\n",
       "      <td>2014.000000</td>\n",
       "    </tr>\n",
       "    <tr>\n",
       "      <th>max</th>\n",
       "      <td>4492.500000</td>\n",
       "      <td>260.000000</td>\n",
       "      <td>350.000000</td>\n",
       "      <td>1.207500e+06</td>\n",
       "      <td>149677.500000</td>\n",
       "      <td>1.159200e+06</td>\n",
       "      <td>950625.000000</td>\n",
       "      <td>262200.000000</td>\n",
       "      <td>2014-12-01 00:00:00</td>\n",
       "      <td>12.000000</td>\n",
       "      <td>2014.000000</td>\n",
       "    </tr>\n",
       "    <tr>\n",
       "      <th>std</th>\n",
       "      <td>867.427859</td>\n",
       "      <td>108.602612</td>\n",
       "      <td>136.864495</td>\n",
       "      <td>2.539369e+05</td>\n",
       "      <td>23023.774920</td>\n",
       "      <td>2.367263e+05</td>\n",
       "      <td>203865.506118</td>\n",
       "      <td>42862.569545</td>\n",
       "      <td>NaN</td>\n",
       "      <td>3.377321</td>\n",
       "      <td>0.433322</td>\n",
       "    </tr>\n",
       "  </tbody>\n",
       "</table>\n",
       "</div>"
      ],
      "text/plain": [
       "        Units Sold  Manufacturing Price  Sale Price   Gross Sales  \\\n",
       "count   700.000000           700.000000  698.000000  6.980000e+02   \n",
       "mean   1608.294286            96.477143  118.717765  1.823485e+05   \n",
       "min     200.000000             3.000000    7.000000  1.799000e+03   \n",
       "25%     905.000000             5.000000   12.000000  1.740900e+04   \n",
       "50%    1542.500000            10.000000   20.000000  3.798000e+04   \n",
       "75%    2229.125000           250.000000  300.000000  2.767500e+05   \n",
       "max    4492.500000           260.000000  350.000000  1.207500e+06   \n",
       "std     867.427859           108.602612  136.864495  2.539369e+05   \n",
       "\n",
       "           Discounts         Sales           COGS         Profit  \\\n",
       "count     695.000000  7.000000e+02     700.000000     694.000000   \n",
       "mean    13234.127209  1.696091e+05  145475.211429   24092.383228   \n",
       "min         0.000000  1.655080e+03     918.000000  -40617.500000   \n",
       "25%       807.725000  1.592800e+04    7490.000000    2783.272500   \n",
       "50%      2643.750000  3.554020e+04   22506.250000    9241.800000   \n",
       "75%     16164.750000  2.610775e+05  245607.500000   22633.110000   \n",
       "max    149677.500000  1.159200e+06  950625.000000  262200.000000   \n",
       "std     23023.774920  2.367263e+05  203865.506118   42862.569545   \n",
       "\n",
       "                                Date  Month Number         Year  \n",
       "count                            697    700.000000   700.000000  \n",
       "mean   2014-04-28 14:58:42.525107456      7.900000  2013.750000  \n",
       "min              2013-09-01 00:00:00      1.000000  2013.000000  \n",
       "25%              2014-01-01 00:00:00      5.750000  2013.750000  \n",
       "50%              2014-05-01 00:00:00      9.000000  2014.000000  \n",
       "75%              2014-09-01 00:00:00     10.250000  2014.000000  \n",
       "max              2014-12-01 00:00:00     12.000000  2014.000000  \n",
       "std                              NaN      3.377321     0.433322  "
      ]
     },
     "execution_count": 25,
     "metadata": {},
     "output_type": "execute_result"
    }
   ],
   "source": [
    "df1.describe()"
   ]
  },
  {
   "cell_type": "code",
   "execution_count": 29,
   "id": "6cf44bb0-0cee-44a6-a825-dca749f917f1",
   "metadata": {},
   "outputs": [
    {
     "data": {
      "text/plain": [
       "count    698.000000\n",
       "mean     118.717765\n",
       "std      136.864495\n",
       "min        7.000000\n",
       "25%       12.000000\n",
       "50%       20.000000\n",
       "75%      300.000000\n",
       "max      350.000000\n",
       "Name: Sale Price, dtype: float64"
      ]
     },
     "execution_count": 29,
     "metadata": {},
     "output_type": "execute_result"
    }
   ],
   "source": [
    "df1['Sale Price'].describe()"
   ]
  },
  {
   "cell_type": "code",
   "execution_count": 30,
   "id": "ac06e3d0-d62c-473d-9c9b-522ce370a1d7",
   "metadata": {},
   "outputs": [
    {
     "data": {
      "text/plain": [
       "Segment                        object\n",
       "Country                        object\n",
       "Product                        object\n",
       "Discount Band                  object\n",
       "Units Sold                    float64\n",
       "Manufacturing Price             int64\n",
       "Sale Price                    float64\n",
       "Gross Sales                   float64\n",
       "Discounts                     float64\n",
       " Sales                        float64\n",
       "COGS                          float64\n",
       "Profit                        float64\n",
       "Date                   datetime64[ns]\n",
       "Month Number                    int64\n",
       "Month Name                     object\n",
       "Year                            int64\n",
       "dtype: object"
      ]
     },
     "execution_count": 30,
     "metadata": {},
     "output_type": "execute_result"
    }
   ],
   "source": [
    "df1.dtypes"
   ]
  },
  {
   "cell_type": "code",
   "execution_count": 32,
   "id": "fbf051ed-e3a3-41e0-93d5-64546dc9597e",
   "metadata": {},
   "outputs": [
    {
     "data": {
      "text/plain": [
       "Index(['Segment', 'Country', 'Product', 'Discount Band', 'Units Sold',\n",
       "       'Manufacturing Price', 'Sale Price', 'Gross Sales', 'Discounts',\n",
       "       ' Sales', 'COGS', 'Profit', 'Date', 'Month Number', 'Month Name',\n",
       "       'Year'],\n",
       "      dtype='object')"
      ]
     },
     "execution_count": 32,
     "metadata": {},
     "output_type": "execute_result"
    }
   ],
   "source": [
    "df1.columns"
   ]
  },
  {
   "cell_type": "code",
   "execution_count": null,
   "id": "a8bdf750-1ceb-4533-8c12-744548b3d89d",
   "metadata": {},
   "outputs": [],
   "source": []
  }
 ],
 "metadata": {
  "kernelspec": {
   "display_name": "Python 3 (ipykernel)",
   "language": "python",
   "name": "python3"
  },
  "language_info": {
   "codemirror_mode": {
    "name": "ipython",
    "version": 3
   },
   "file_extension": ".py",
   "mimetype": "text/x-python",
   "name": "python",
   "nbconvert_exporter": "python",
   "pygments_lexer": "ipython3",
   "version": "3.11.10"
  }
 },
 "nbformat": 4,
 "nbformat_minor": 5
}
