{
 "cells": [
  {
   "cell_type": "markdown",
   "id": "0bc43456-5395-4b28-bd23-08125a0ba802",
   "metadata": {},
   "source": [
    "# visualizing data using Pandas"
   ]
  },
  {
   "cell_type": "markdown",
   "id": "ddbbc55f-9ae4-4e32-a5d0-a6e31ef93bd4",
   "metadata": {},
   "source": [
    "## Histogram"
   ]
  },
  {
   "cell_type": "markdown",
   "id": "081d58dd-6be7-4835-b2d8-60d645da4e17",
   "metadata": {},
   "source": [
    "### Mean (Average)"
   ]
  },
  {
   "cell_type": "raw",
   "id": "58186d93-cb2a-4862-820b-b4d52cdc7dda",
   "metadata": {},
   "source": [
    "Formula:Sum of all values/(Total Number of values)"
   ]
  },
  {
   "cell_type": "markdown",
   "id": "fe8cea38-f835-41f7-9480-6f4e3ad9f24d",
   "metadata": {},
   "source": [
    "### Median:The middle value after sorting the data."
   ]
  },
  {
   "cell_type": "raw",
   "id": "b2b5280c-493c-45ca-a843-aba5908276d1",
   "metadata": {},
   "source": [
    "Example:\n",
    "    #1 For the dataset: \n",
    "        [1,3,3,6,7], the median is 3 (the middle value). \n",
    "    #2 For the dataset: \n",
    "        [1,2,3,4,5,6], the median is (3 + 4) / 2 = 3.5"
   ]
  },
  {
   "cell_type": "markdown",
   "id": "f54e2d19-cdd1-4f4c-9737-7d207d71b5a8",
   "metadata": {},
   "source": [
    "### Mode (Most Frequent Value)"
   ]
  },
  {
   "cell_type": "raw",
   "id": "11953264-3f37-45ac-be45-67b801c8cf72",
   "metadata": {},
   "source": [
    "Example:\n",
    "    For the dataset: \n",
    "        [1,2,2,3,4], the mode is 2"
   ]
  },
  {
   "cell_type": "code",
   "execution_count": null,
   "id": "6dabfa88-b4bc-45fb-8df6-62ea9f08e434",
   "metadata": {},
   "outputs": [],
   "source": []
  },
  {
   "cell_type": "markdown",
   "id": "9e755f2a-a0ec-410c-b4b6-b197f724a99a",
   "metadata": {},
   "source": [
    "### #1 Histogram - Normal Distribution Data (Mean=Median=Mode)"
   ]
  },
  {
   "cell_type": "code",
   "execution_count": 4,
   "id": "c87b1af7-a5ec-40f6-bfe0-6cc841ce91e9",
   "metadata": {},
   "outputs": [],
   "source": [
    "import pandas as pd\n",
    "df1=pd.read_csv('data1.csv')"
   ]
  },
  {
   "cell_type": "code",
   "execution_count": 5,
   "id": "296d35f5-8d46-4ce3-91b0-8a3acaa67a95",
   "metadata": {},
   "outputs": [
    {
     "data": {
      "text/plain": [
       "Index(['value'], dtype='object')"
      ]
     },
     "execution_count": 5,
     "metadata": {},
     "output_type": "execute_result"
    }
   ],
   "source": [
    "df1.columns"
   ]
  },
  {
   "cell_type": "code",
   "execution_count": 7,
   "id": "ba0a58c9-1b5b-40e8-aa04-d5d0c0f19a91",
   "metadata": {},
   "outputs": [
    {
     "data": {
      "text/plain": [
       "<Axes: >"
      ]
     },
     "execution_count": 7,
     "metadata": {},
     "output_type": "execute_result"
    },
    {
     "data": {
      "image/png": "[encoded data removed]",
      "text/plain": [
       "<Figure size 640x480 with 1 Axes>"
      ]
     },
     "metadata": {},
     "output_type": "display_data"
    }
   ],
   "source": [
    "df1['value'].hist(bins=30)"
   ]
  },
  {
   "cell_type": "markdown",
   "id": "75aecded-6498-4670-81d1-20d3e5c72119",
   "metadata": {},
   "source": [
    "### #2 Histogram - Right Skewness Data (Mean > Median > Mode)"
   ]
  },
  {
   "cell_type": "code",
   "execution_count": 8,
   "id": "ca7a8208-36e3-4930-a03a-9175366bab1b",
   "metadata": {},
   "outputs": [
    {
     "data": {
      "text/html": [
       "<div>\n",
       "<style scoped>\n",
       "    .dataframe tbody tr th:only-of-type {\n",
       "        vertical-align: middle;\n",
       "    }\n",
       "\n",
       "    .dataframe tbody tr th {\n",
       "        vertical-align: top;\n",
       "    }\n",
       "\n",
       "    .dataframe thead th {\n",
       "        text-align: right;\n",
       "    }\n",
       "</style>\n",
       "<table border=\"1\" class=\"dataframe\">\n",
       "  <thead>\n",
       "    <tr style=\"text-align: right;\">\n",
       "      <th></th>\n",
       "      <th>value</th>\n",
       "    </tr>\n",
       "  </thead>\n",
       "  <tbody>\n",
       "    <tr>\n",
       "      <th>0</th>\n",
       "      <td>18.345905</td>\n",
       "    </tr>\n",
       "    <tr>\n",
       "      <th>1</th>\n",
       "      <td>1.339400</td>\n",
       "    </tr>\n",
       "    <tr>\n",
       "      <th>2</th>\n",
       "      <td>10.042553</td>\n",
       "    </tr>\n",
       "    <tr>\n",
       "      <th>3</th>\n",
       "      <td>27.245830</td>\n",
       "    </tr>\n",
       "    <tr>\n",
       "      <th>4</th>\n",
       "      <td>1.019101</td>\n",
       "    </tr>\n",
       "    <tr>\n",
       "      <th>...</th>\n",
       "      <td>...</td>\n",
       "    </tr>\n",
       "    <tr>\n",
       "      <th>995</th>\n",
       "      <td>5.997806</td>\n",
       "    </tr>\n",
       "    <tr>\n",
       "      <th>996</th>\n",
       "      <td>3.155880</td>\n",
       "    </tr>\n",
       "    <tr>\n",
       "      <th>997</th>\n",
       "      <td>12.497548</td>\n",
       "    </tr>\n",
       "    <tr>\n",
       "      <th>998</th>\n",
       "      <td>10.335569</td>\n",
       "    </tr>\n",
       "    <tr>\n",
       "      <th>999</th>\n",
       "      <td>4.960951</td>\n",
       "    </tr>\n",
       "  </tbody>\n",
       "</table>\n",
       "<p>1000 rows × 1 columns</p>\n",
       "</div>"
      ],
      "text/plain": [
       "         value\n",
       "0    18.345905\n",
       "1     1.339400\n",
       "2    10.042553\n",
       "3    27.245830\n",
       "4     1.019101\n",
       "..         ...\n",
       "995   5.997806\n",
       "996   3.155880\n",
       "997  12.497548\n",
       "998  10.335569\n",
       "999   4.960951\n",
       "\n",
       "[1000 rows x 1 columns]"
      ]
     },
     "execution_count": 8,
     "metadata": {},
     "output_type": "execute_result"
    }
   ],
   "source": [
    "df2=pd.read_csv('data2.csv')\n",
    "df2"
   ]
  },
  {
   "cell_type": "code",
   "execution_count": 9,
   "id": "e6495eef-2229-417a-a00b-3be7346c4325",
   "metadata": {},
   "outputs": [
    {
     "data": {
      "text/plain": [
       "Index(['value'], dtype='object')"
      ]
     },
     "execution_count": 9,
     "metadata": {},
     "output_type": "execute_result"
    }
   ],
   "source": [
    "df2.columns"
   ]
  },
  {
   "cell_type": "code",
   "execution_count": 10,
   "id": "1b49d7a9-a629-43cd-9505-10b2c50c7799",
   "metadata": {},
   "outputs": [
    {
     "data": {
      "text/plain": [
       "<Axes: >"
      ]
     },
     "execution_count": 10,
     "metadata": {},
     "output_type": "execute_result"
    },
    {
     "data": {
      "image/png": "[encoded data removed]",
      "text/plain": [
       "<Figure size 640x480 with 1 Axes>"
      ]
     },
     "metadata": {},
     "output_type": "display_data"
    }
   ],
   "source": [
    "df2['value'].hist(bins=30)"
   ]
  },
  {
   "cell_type": "markdown",
   "id": "7e621459-ee41-4835-aa5e-9a20e21a5e77",
   "metadata": {},
   "source": [
    "### #3 Histogram - Left Skewness Data (Mean < Median < Mode)"
   ]
  },
  {
   "cell_type": "code",
   "execution_count": 11,
   "id": "23067c9e-19c2-4432-b1cd-042d1829dcf9",
   "metadata": {},
   "outputs": [],
   "source": [
    "df3=pd.read_csv('data3.csv')"
   ]
  },
  {
   "cell_type": "code",
   "execution_count": 12,
   "id": "da38e244-e3ed-4d4e-8874-483ce3e8d002",
   "metadata": {},
   "outputs": [
    {
     "data": {
      "text/plain": [
       "Index(['value'], dtype='object')"
      ]
     },
     "execution_count": 12,
     "metadata": {},
     "output_type": "execute_result"
    }
   ],
   "source": [
    "df3.columns"
   ]
  },
  {
   "cell_type": "code",
   "execution_count": 13,
   "id": "540ab022-fb79-4352-8d72-860c1ea2ab87",
   "metadata": {},
   "outputs": [
    {
     "data": {
      "text/plain": [
       "<Axes: >"
      ]
     },
     "execution_count": 13,
     "metadata": {},
     "output_type": "execute_result"
    },
    {
     "data": {
      "image/png": "[encoded data removed]",
      "text/plain": [
       "<Figure size 640x480 with 1 Axes>"
      ]
     },
     "metadata": {},
     "output_type": "display_data"
    }
   ],
   "source": [
    "df3['value'].hist(bins=30)"
   ]
  },
  {
   "cell_type": "markdown",
   "id": "af2ea416-06d4-4b80-a98e-63e1f6697c36",
   "metadata": {},
   "source": [
    "### #4 Histogram - Bimodal Distribution"
   ]
  },
  {
   "cell_type": "code",
   "execution_count": 14,
   "id": "2af31cd1-bfca-41b0-9ee0-53b323f42ab2",
   "metadata": {},
   "outputs": [],
   "source": [
    "df4=pd.read_csv('data4.csv')"
   ]
  },
  {
   "cell_type": "code",
   "execution_count": 15,
   "id": "42bfa181-027c-490e-9558-294880a49835",
   "metadata": {},
   "outputs": [
    {
     "data": {
      "text/plain": [
       "<Axes: >"
      ]
     },
     "execution_count": 15,
     "metadata": {},
     "output_type": "execute_result"
    },
    {
     "data": {
      "image/png": "[encoded data removed]",
      "text/plain": [
       "<Figure size 640x480 with 1 Axes>"
      ]
     },
     "metadata": {},
     "output_type": "display_data"
    }
   ],
   "source": [
    "df4['value'].hist(bins=30)"
   ]
  },
  {
   "cell_type": "code",
   "execution_count": null,
   "id": "2f1538b5-e657-4454-96e8-3c8a7b120c56",
   "metadata": {},
   "outputs": [],
   "source": []
  }
 ],
 "metadata": {
  "kernelspec": {
   "display_name": "Python 3 (ipykernel)",
   "language": "python",
   "name": "python3"
  },
  "language_info": {
   "codemirror_mode": {
    "name": "ipython",
    "version": 3
   },
   "file_extension": ".py",
   "mimetype": "text/x-python",
   "name": "python",
   "nbconvert_exporter": "python",
   "pygments_lexer": "ipython3",
   "version": "3.11.10"
  }
 },
 "nbformat": 4,
 "nbformat_minor": 5
}
